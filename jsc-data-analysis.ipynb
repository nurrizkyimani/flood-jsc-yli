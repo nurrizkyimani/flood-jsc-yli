{
 "cells": [
  {
   "cell_type": "code",
   "execution_count": 1,
   "metadata": {
    "collapsed": true,
    "pycharm": {
     "name": "#%%\n"
    }
   },
   "outputs": [],
   "source": [
    "import collections\n",
    "\n",
    "import pandas\n",
    "import pandas as pd\n",
    "import numpy as np\n",
    "import matplotlib as plt"
   ]
  },
  {
   "cell_type": "code",
   "execution_count": 4,
   "outputs": [
    {
     "name": "stdout",
     "output_type": "stream",
     "text": [
      "/Users/nurrizkyimani/DataspellProjects/flood-jsc-yli\r\n"
     ]
    }
   ],
   "source": [
    "!pwd"
   ],
   "metadata": {
    "collapsed": false,
    "pycharm": {
     "name": "#%%\n"
    }
   }
  },
  {
   "cell_type": "code",
   "execution_count": 138,
   "outputs": [],
   "source": [
    "from collections import defaultdict\n",
    "\n",
    "rekap_yr_dict = defaultdict()\n",
    "\n",
    "for yr in range(2013,2021):\n",
    "    path = \"dataset/data-rekapitulasi/data-rekapitulasi-kejadian-banjir-tahun-{}.csv\".format(yr)\n",
    "    data_rekap = pd.read_csv(path)\n",
    "    rekap_yr_dict[yr] = data_rekap"
   ],
   "metadata": {
    "collapsed": false,
    "pycharm": {
     "name": "#%%\n"
    }
   }
  },
  {
   "cell_type": "code",
   "execution_count": 139,
   "outputs": [
    {
     "data": {
      "text/plain": "15"
     },
     "execution_count": 139,
     "metadata": {},
     "output_type": "execute_result"
    }
   ],
   "source": [
    "rc : pd.DataFrame = rekap_yr_dict[2013]\n",
    "len(rc.columns)"
   ],
   "metadata": {
    "collapsed": false,
    "pycharm": {
     "name": "#%%\n"
    }
   }
  },
  {
   "cell_type": "code",
   "execution_count": 140,
   "outputs": [],
   "source": [
    "for yr in range(2013, 2021):\n",
    "    rekap_yr : pd.DataFrame = rekap_yr_dict[yr]\n",
    "    # print(len(rekap_yr.columns))\n",
    "    # rekap_yr['tahun'] = yr"
   ],
   "metadata": {
    "collapsed": false,
    "pycharm": {
     "name": "#%%\n"
    }
   }
  },
  {
   "cell_type": "code",
   "execution_count": 141,
   "outputs": [],
   "source": [
    "all_rekap = pd.concat(rekap_yr_dict)"
   ],
   "metadata": {
    "collapsed": false,
    "pycharm": {
     "name": "#%%\n"
    }
   }
  },
  {
   "cell_type": "code",
   "execution_count": 142,
   "outputs": [
    {
     "data": {
      "text/plain": "         bulan  kecamatan  kelurahan rata_rata_ketinggian_air lama_genangan  \\\n2013 0       1       35.0      124.0               10 - 400            15.0   \n     1       2       15.0       34.0               10 - 175             8.0   \n     2       3        5.0        9.0               10 - 250             2.0   \n     3       4       10.0       16.0               10 - 100             4.0   \n     4       5       10.0       16.0                0 - 160             3.0   \n...        ...        ...        ...                      ...           ...   \n2020 7       8       10.0       12.0             10 s.d 80 cm        1 hari   \n     8       9       16.0       28.0            10 s.d 130 cm  1 s.d 2 hari   \n     9      10       29.0       72.0            10 s.d 180 cm  1 s.d 2 hari   \n     10     11       16.0       27.0             10 s.d 60 cm  1 s.d 2 hari   \n     11     12        7.0        9.0             10 s.d 80 cm        1 hari   \n\n         rw_terdampak kk_terdampak jiwa_terdampak  korban_meninggal  \\\n2013 0         2414.0     506164.0      1226487.0              38.0   \n     1          207.0      19177.0        46865.0               0.0   \n     2           68.0       9215.0        27020.0               0.0   \n     3           66.0       6004.0        15060.0               0.0   \n     4          139.0       4740.0        18481.0               0.0   \n...               ...          ...            ...               ...   \n2020 7           20.0            0              0               0.0   \n     8           65.0          414           1300               0.0   \n     9          170.0         1933           6250               0.0   \n     10          54.0            0              0               0.0   \n     11          18.0          250            827               0.0   \n\n         korban_hilang  korban_luka_berat  korban_luka_ringan  \\\n2013 0             0.0                0.0                 0.0   \n     1             0.0                0.0                 0.0   \n     2             0.0                0.0                 0.0   \n     3             0.0                0.0                 0.0   \n     4             0.0                0.0                 0.0   \n...                ...                ...                 ...   \n2020 7             0.0                0.0                 0.0   \n     8             0.0                0.0                 0.0   \n     9             0.0                0.0                 0.0   \n     10            0.0                0.0                 0.0   \n     11            0.0                0.0                 0.0   \n\n         jumlah_jiwa_pengungsi_tertinggi  jumlah_tempat_pengungsian  \\\n2013 0                           83554.0                     1115.0   \n     1                             740.0                       21.0   \n     2                            2406.0                       34.0   \n     3                             318.0                        7.0   \n     4                            1245.0                       42.0   \n...                                  ...                        ...   \n2020 7                               0.0                        0.0   \n     8                             104.0                        5.0   \n     9                             675.0                       12.0   \n     10                              0.0                        0.0   \n     11                              0.0                        0.0   \n\n        jumlah_nilai_kerugian  \n2013 0                      0  \n     1                      0  \n     2                      0  \n     3                      0  \n     4                      0  \n...                       ...  \n2020 7                    n.a  \n     8                    n.a  \n     9                    n.a  \n     10                   n.a  \n     11                   n.a  \n\n[95 rows x 15 columns]",
      "text/html": "<div>\n<style scoped>\n    .dataframe tbody tr th:only-of-type {\n        vertical-align: middle;\n    }\n\n    .dataframe tbody tr th {\n        vertical-align: top;\n    }\n\n    .dataframe thead th {\n        text-align: right;\n    }\n</style>\n<table border=\"1\" class=\"dataframe\">\n  <thead>\n    <tr style=\"text-align: right;\">\n      <th></th>\n      <th></th>\n      <th>bulan</th>\n      <th>kecamatan</th>\n      <th>kelurahan</th>\n      <th>rata_rata_ketinggian_air</th>\n      <th>lama_genangan</th>\n      <th>rw_terdampak</th>\n      <th>kk_terdampak</th>\n      <th>jiwa_terdampak</th>\n      <th>korban_meninggal</th>\n      <th>korban_hilang</th>\n      <th>korban_luka_berat</th>\n      <th>korban_luka_ringan</th>\n      <th>jumlah_jiwa_pengungsi_tertinggi</th>\n      <th>jumlah_tempat_pengungsian</th>\n      <th>jumlah_nilai_kerugian</th>\n    </tr>\n  </thead>\n  <tbody>\n    <tr>\n      <th rowspan=\"5\" valign=\"top\">2013</th>\n      <th>0</th>\n      <td>1</td>\n      <td>35.0</td>\n      <td>124.0</td>\n      <td>10 - 400</td>\n      <td>15.0</td>\n      <td>2414.0</td>\n      <td>506164.0</td>\n      <td>1226487.0</td>\n      <td>38.0</td>\n      <td>0.0</td>\n      <td>0.0</td>\n      <td>0.0</td>\n      <td>83554.0</td>\n      <td>1115.0</td>\n      <td>0</td>\n    </tr>\n    <tr>\n      <th>1</th>\n      <td>2</td>\n      <td>15.0</td>\n      <td>34.0</td>\n      <td>10 - 175</td>\n      <td>8.0</td>\n      <td>207.0</td>\n      <td>19177.0</td>\n      <td>46865.0</td>\n      <td>0.0</td>\n      <td>0.0</td>\n      <td>0.0</td>\n      <td>0.0</td>\n      <td>740.0</td>\n      <td>21.0</td>\n      <td>0</td>\n    </tr>\n    <tr>\n      <th>2</th>\n      <td>3</td>\n      <td>5.0</td>\n      <td>9.0</td>\n      <td>10 - 250</td>\n      <td>2.0</td>\n      <td>68.0</td>\n      <td>9215.0</td>\n      <td>27020.0</td>\n      <td>0.0</td>\n      <td>0.0</td>\n      <td>0.0</td>\n      <td>0.0</td>\n      <td>2406.0</td>\n      <td>34.0</td>\n      <td>0</td>\n    </tr>\n    <tr>\n      <th>3</th>\n      <td>4</td>\n      <td>10.0</td>\n      <td>16.0</td>\n      <td>10 - 100</td>\n      <td>4.0</td>\n      <td>66.0</td>\n      <td>6004.0</td>\n      <td>15060.0</td>\n      <td>0.0</td>\n      <td>0.0</td>\n      <td>0.0</td>\n      <td>0.0</td>\n      <td>318.0</td>\n      <td>7.0</td>\n      <td>0</td>\n    </tr>\n    <tr>\n      <th>4</th>\n      <td>5</td>\n      <td>10.0</td>\n      <td>16.0</td>\n      <td>0 - 160</td>\n      <td>3.0</td>\n      <td>139.0</td>\n      <td>4740.0</td>\n      <td>18481.0</td>\n      <td>0.0</td>\n      <td>0.0</td>\n      <td>0.0</td>\n      <td>0.0</td>\n      <td>1245.0</td>\n      <td>42.0</td>\n      <td>0</td>\n    </tr>\n    <tr>\n      <th>...</th>\n      <th>...</th>\n      <td>...</td>\n      <td>...</td>\n      <td>...</td>\n      <td>...</td>\n      <td>...</td>\n      <td>...</td>\n      <td>...</td>\n      <td>...</td>\n      <td>...</td>\n      <td>...</td>\n      <td>...</td>\n      <td>...</td>\n      <td>...</td>\n      <td>...</td>\n      <td>...</td>\n    </tr>\n    <tr>\n      <th rowspan=\"5\" valign=\"top\">2020</th>\n      <th>7</th>\n      <td>8</td>\n      <td>10.0</td>\n      <td>12.0</td>\n      <td>10 s.d 80 cm</td>\n      <td>1 hari</td>\n      <td>20.0</td>\n      <td>0</td>\n      <td>0</td>\n      <td>0.0</td>\n      <td>0.0</td>\n      <td>0.0</td>\n      <td>0.0</td>\n      <td>0.0</td>\n      <td>0.0</td>\n      <td>n.a</td>\n    </tr>\n    <tr>\n      <th>8</th>\n      <td>9</td>\n      <td>16.0</td>\n      <td>28.0</td>\n      <td>10 s.d 130 cm</td>\n      <td>1 s.d 2 hari</td>\n      <td>65.0</td>\n      <td>414</td>\n      <td>1300</td>\n      <td>0.0</td>\n      <td>0.0</td>\n      <td>0.0</td>\n      <td>0.0</td>\n      <td>104.0</td>\n      <td>5.0</td>\n      <td>n.a</td>\n    </tr>\n    <tr>\n      <th>9</th>\n      <td>10</td>\n      <td>29.0</td>\n      <td>72.0</td>\n      <td>10 s.d 180 cm</td>\n      <td>1 s.d 2 hari</td>\n      <td>170.0</td>\n      <td>1933</td>\n      <td>6250</td>\n      <td>0.0</td>\n      <td>0.0</td>\n      <td>0.0</td>\n      <td>0.0</td>\n      <td>675.0</td>\n      <td>12.0</td>\n      <td>n.a</td>\n    </tr>\n    <tr>\n      <th>10</th>\n      <td>11</td>\n      <td>16.0</td>\n      <td>27.0</td>\n      <td>10 s.d 60 cm</td>\n      <td>1 s.d 2 hari</td>\n      <td>54.0</td>\n      <td>0</td>\n      <td>0</td>\n      <td>0.0</td>\n      <td>0.0</td>\n      <td>0.0</td>\n      <td>0.0</td>\n      <td>0.0</td>\n      <td>0.0</td>\n      <td>n.a</td>\n    </tr>\n    <tr>\n      <th>11</th>\n      <td>12</td>\n      <td>7.0</td>\n      <td>9.0</td>\n      <td>10 s.d 80 cm</td>\n      <td>1 hari</td>\n      <td>18.0</td>\n      <td>250</td>\n      <td>827</td>\n      <td>0.0</td>\n      <td>0.0</td>\n      <td>0.0</td>\n      <td>0.0</td>\n      <td>0.0</td>\n      <td>0.0</td>\n      <td>n.a</td>\n    </tr>\n  </tbody>\n</table>\n<p>95 rows × 15 columns</p>\n</div>"
     },
     "execution_count": 142,
     "metadata": {},
     "output_type": "execute_result"
    }
   ],
   "source": [
    "all_rekap"
   ],
   "metadata": {
    "collapsed": false,
    "pycharm": {
     "name": "#%%\n"
    }
   }
  },
  {
   "cell_type": "code",
   "execution_count": 143,
   "outputs": [
    {
     "data": {
      "text/plain": "15"
     },
     "execution_count": 143,
     "metadata": {},
     "output_type": "execute_result"
    }
   ],
   "source": [
    "all_rekap.index[0][1]\n",
    "len(all_rekap.columns)"
   ],
   "metadata": {
    "collapsed": false,
    "pycharm": {
     "name": "#%%\n"
    }
   }
  },
  {
   "cell_type": "markdown",
   "source": [],
   "metadata": {
    "collapsed": false,
    "pycharm": {
     "name": "#%% md\n"
    }
   }
  },
  {
   "cell_type": "code",
   "execution_count": 144,
   "outputs": [],
   "source": [
    "all_rekap.reset_index(inplace=True)\n",
    "# df = df.rename(columns = {'index':'new column name'})"
   ],
   "metadata": {
    "collapsed": false,
    "pycharm": {
     "name": "#%%\n"
    }
   }
  },
  {
   "cell_type": "code",
   "execution_count": 145,
   "outputs": [],
   "source": [
    "all_rekap.drop('level_1', axis=1, inplace= True)"
   ],
   "metadata": {
    "collapsed": false,
    "pycharm": {
     "name": "#%%\n"
    }
   }
  },
  {
   "cell_type": "code",
   "execution_count": 146,
   "outputs": [],
   "source": [
    "# all_rekap.rename({'level_0' : 'tahun'}, axis='columns')\n",
    "all_rekap = all_rekap.rename(columns = {'level_0':'tahun'})"
   ],
   "metadata": {
    "collapsed": false,
    "pycharm": {
     "name": "#%%\n"
    }
   }
  },
  {
   "cell_type": "code",
   "execution_count": 147,
   "outputs": [
    {
     "data": {
      "text/plain": "tahun                                int64\nbulan                                int64\nkecamatan                          float64\nkelurahan                          float64\nrata_rata_ketinggian_air            object\nlama_genangan                       object\nrw_terdampak                       float64\nkk_terdampak                        object\njiwa_terdampak                      object\nkorban_meninggal                   float64\nkorban_hilang                      float64\nkorban_luka_berat                  float64\nkorban_luka_ringan                 float64\njumlah_jiwa_pengungsi_tertinggi    float64\njumlah_tempat_pengungsian          float64\njumlah_nilai_kerugian               object\ndtype: object"
     },
     "execution_count": 147,
     "metadata": {},
     "output_type": "execute_result"
    }
   ],
   "source": [
    "all_rekap.dtypes"
   ],
   "metadata": {
    "collapsed": false,
    "pycharm": {
     "name": "#%%\n"
    }
   }
  },
  {
   "cell_type": "code",
   "execution_count": 148,
   "outputs": [],
   "source": [
    "import numpy as np\n",
    "all_rekap = all_rekap.fillna(0)"
   ],
   "metadata": {
    "collapsed": false,
    "pycharm": {
     "name": "#%%\n"
    }
   }
  },
  {
   "cell_type": "code",
   "execution_count": 149,
   "outputs": [
    {
     "data": {
      "text/plain": "    tahun  bulan  kecamatan  kelurahan rata_rata_ketinggian_air lama_genangan  \\\n0    2013      1       35.0      124.0               10 - 400            15.0   \n1    2013      2       15.0       34.0               10 - 175             8.0   \n2    2013      3        5.0        9.0               10 - 250             2.0   \n3    2013      4       10.0       16.0               10 - 100             4.0   \n4    2013      5       10.0       16.0                0 - 160             3.0   \n..    ...    ...        ...        ...                      ...           ...   \n90   2020      8       10.0       12.0             10 s.d 80 cm        1 hari   \n91   2020      9       16.0       28.0            10 s.d 130 cm  1 s.d 2 hari   \n92   2020     10       29.0       72.0            10 s.d 180 cm  1 s.d 2 hari   \n93   2020     11       16.0       27.0             10 s.d 60 cm  1 s.d 2 hari   \n94   2020     12        7.0        9.0             10 s.d 80 cm        1 hari   \n\n    rw_terdampak kk_terdampak jiwa_terdampak  korban_meninggal  korban_hilang  \\\n0         2414.0     506164.0      1226487.0              38.0            0.0   \n1          207.0      19177.0        46865.0               0.0            0.0   \n2           68.0       9215.0        27020.0               0.0            0.0   \n3           66.0       6004.0        15060.0               0.0            0.0   \n4          139.0       4740.0        18481.0               0.0            0.0   \n..           ...          ...            ...               ...            ...   \n90          20.0            0              0               0.0            0.0   \n91          65.0          414           1300               0.0            0.0   \n92         170.0         1933           6250               0.0            0.0   \n93          54.0            0              0               0.0            0.0   \n94          18.0          250            827               0.0            0.0   \n\n    korban_luka_berat  korban_luka_ringan  jumlah_jiwa_pengungsi_tertinggi  \\\n0                 0.0                 0.0                          83554.0   \n1                 0.0                 0.0                            740.0   \n2                 0.0                 0.0                           2406.0   \n3                 0.0                 0.0                            318.0   \n4                 0.0                 0.0                           1245.0   \n..                ...                 ...                              ...   \n90                0.0                 0.0                              0.0   \n91                0.0                 0.0                            104.0   \n92                0.0                 0.0                            675.0   \n93                0.0                 0.0                              0.0   \n94                0.0                 0.0                              0.0   \n\n    jumlah_tempat_pengungsian jumlah_nilai_kerugian  \n0                      1115.0                     0  \n1                        21.0                     0  \n2                        34.0                     0  \n3                         7.0                     0  \n4                        42.0                     0  \n..                        ...                   ...  \n90                        0.0                   n.a  \n91                        5.0                   n.a  \n92                       12.0                   n.a  \n93                        0.0                   n.a  \n94                        0.0                   n.a  \n\n[95 rows x 16 columns]",
      "text/html": "<div>\n<style scoped>\n    .dataframe tbody tr th:only-of-type {\n        vertical-align: middle;\n    }\n\n    .dataframe tbody tr th {\n        vertical-align: top;\n    }\n\n    .dataframe thead th {\n        text-align: right;\n    }\n</style>\n<table border=\"1\" class=\"dataframe\">\n  <thead>\n    <tr style=\"text-align: right;\">\n      <th></th>\n      <th>tahun</th>\n      <th>bulan</th>\n      <th>kecamatan</th>\n      <th>kelurahan</th>\n      <th>rata_rata_ketinggian_air</th>\n      <th>lama_genangan</th>\n      <th>rw_terdampak</th>\n      <th>kk_terdampak</th>\n      <th>jiwa_terdampak</th>\n      <th>korban_meninggal</th>\n      <th>korban_hilang</th>\n      <th>korban_luka_berat</th>\n      <th>korban_luka_ringan</th>\n      <th>jumlah_jiwa_pengungsi_tertinggi</th>\n      <th>jumlah_tempat_pengungsian</th>\n      <th>jumlah_nilai_kerugian</th>\n    </tr>\n  </thead>\n  <tbody>\n    <tr>\n      <th>0</th>\n      <td>2013</td>\n      <td>1</td>\n      <td>35.0</td>\n      <td>124.0</td>\n      <td>10 - 400</td>\n      <td>15.0</td>\n      <td>2414.0</td>\n      <td>506164.0</td>\n      <td>1226487.0</td>\n      <td>38.0</td>\n      <td>0.0</td>\n      <td>0.0</td>\n      <td>0.0</td>\n      <td>83554.0</td>\n      <td>1115.0</td>\n      <td>0</td>\n    </tr>\n    <tr>\n      <th>1</th>\n      <td>2013</td>\n      <td>2</td>\n      <td>15.0</td>\n      <td>34.0</td>\n      <td>10 - 175</td>\n      <td>8.0</td>\n      <td>207.0</td>\n      <td>19177.0</td>\n      <td>46865.0</td>\n      <td>0.0</td>\n      <td>0.0</td>\n      <td>0.0</td>\n      <td>0.0</td>\n      <td>740.0</td>\n      <td>21.0</td>\n      <td>0</td>\n    </tr>\n    <tr>\n      <th>2</th>\n      <td>2013</td>\n      <td>3</td>\n      <td>5.0</td>\n      <td>9.0</td>\n      <td>10 - 250</td>\n      <td>2.0</td>\n      <td>68.0</td>\n      <td>9215.0</td>\n      <td>27020.0</td>\n      <td>0.0</td>\n      <td>0.0</td>\n      <td>0.0</td>\n      <td>0.0</td>\n      <td>2406.0</td>\n      <td>34.0</td>\n      <td>0</td>\n    </tr>\n    <tr>\n      <th>3</th>\n      <td>2013</td>\n      <td>4</td>\n      <td>10.0</td>\n      <td>16.0</td>\n      <td>10 - 100</td>\n      <td>4.0</td>\n      <td>66.0</td>\n      <td>6004.0</td>\n      <td>15060.0</td>\n      <td>0.0</td>\n      <td>0.0</td>\n      <td>0.0</td>\n      <td>0.0</td>\n      <td>318.0</td>\n      <td>7.0</td>\n      <td>0</td>\n    </tr>\n    <tr>\n      <th>4</th>\n      <td>2013</td>\n      <td>5</td>\n      <td>10.0</td>\n      <td>16.0</td>\n      <td>0 - 160</td>\n      <td>3.0</td>\n      <td>139.0</td>\n      <td>4740.0</td>\n      <td>18481.0</td>\n      <td>0.0</td>\n      <td>0.0</td>\n      <td>0.0</td>\n      <td>0.0</td>\n      <td>1245.0</td>\n      <td>42.0</td>\n      <td>0</td>\n    </tr>\n    <tr>\n      <th>...</th>\n      <td>...</td>\n      <td>...</td>\n      <td>...</td>\n      <td>...</td>\n      <td>...</td>\n      <td>...</td>\n      <td>...</td>\n      <td>...</td>\n      <td>...</td>\n      <td>...</td>\n      <td>...</td>\n      <td>...</td>\n      <td>...</td>\n      <td>...</td>\n      <td>...</td>\n      <td>...</td>\n    </tr>\n    <tr>\n      <th>90</th>\n      <td>2020</td>\n      <td>8</td>\n      <td>10.0</td>\n      <td>12.0</td>\n      <td>10 s.d 80 cm</td>\n      <td>1 hari</td>\n      <td>20.0</td>\n      <td>0</td>\n      <td>0</td>\n      <td>0.0</td>\n      <td>0.0</td>\n      <td>0.0</td>\n      <td>0.0</td>\n      <td>0.0</td>\n      <td>0.0</td>\n      <td>n.a</td>\n    </tr>\n    <tr>\n      <th>91</th>\n      <td>2020</td>\n      <td>9</td>\n      <td>16.0</td>\n      <td>28.0</td>\n      <td>10 s.d 130 cm</td>\n      <td>1 s.d 2 hari</td>\n      <td>65.0</td>\n      <td>414</td>\n      <td>1300</td>\n      <td>0.0</td>\n      <td>0.0</td>\n      <td>0.0</td>\n      <td>0.0</td>\n      <td>104.0</td>\n      <td>5.0</td>\n      <td>n.a</td>\n    </tr>\n    <tr>\n      <th>92</th>\n      <td>2020</td>\n      <td>10</td>\n      <td>29.0</td>\n      <td>72.0</td>\n      <td>10 s.d 180 cm</td>\n      <td>1 s.d 2 hari</td>\n      <td>170.0</td>\n      <td>1933</td>\n      <td>6250</td>\n      <td>0.0</td>\n      <td>0.0</td>\n      <td>0.0</td>\n      <td>0.0</td>\n      <td>675.0</td>\n      <td>12.0</td>\n      <td>n.a</td>\n    </tr>\n    <tr>\n      <th>93</th>\n      <td>2020</td>\n      <td>11</td>\n      <td>16.0</td>\n      <td>27.0</td>\n      <td>10 s.d 60 cm</td>\n      <td>1 s.d 2 hari</td>\n      <td>54.0</td>\n      <td>0</td>\n      <td>0</td>\n      <td>0.0</td>\n      <td>0.0</td>\n      <td>0.0</td>\n      <td>0.0</td>\n      <td>0.0</td>\n      <td>0.0</td>\n      <td>n.a</td>\n    </tr>\n    <tr>\n      <th>94</th>\n      <td>2020</td>\n      <td>12</td>\n      <td>7.0</td>\n      <td>9.0</td>\n      <td>10 s.d 80 cm</td>\n      <td>1 hari</td>\n      <td>18.0</td>\n      <td>250</td>\n      <td>827</td>\n      <td>0.0</td>\n      <td>0.0</td>\n      <td>0.0</td>\n      <td>0.0</td>\n      <td>0.0</td>\n      <td>0.0</td>\n      <td>n.a</td>\n    </tr>\n  </tbody>\n</table>\n<p>95 rows × 16 columns</p>\n</div>"
     },
     "execution_count": 149,
     "metadata": {},
     "output_type": "execute_result"
    }
   ],
   "source": [
    "all_rekap"
   ],
   "metadata": {
    "collapsed": false,
    "pycharm": {
     "name": "#%%\n"
    }
   }
  },
  {
   "cell_type": "code",
   "execution_count": 171,
   "outputs": [],
   "source": [
    "all_rekap = all_rekap.astype({\n",
    "    \"kecamatan\": int,\n",
    "    \"kelurahan\": int,\n",
    "\n",
    "})\n",
    "\n",
    "# \"rw_terdampak\": int,\n",
    "# \"kk_terdampak\":  int,\n",
    "# \"jiwa_terdampak\":  int,\n",
    "# \"korban_meninggal\":  int,\n",
    "# \"korban_hilang\":  int,\n",
    "# \"korban_luka_ringan\":  int,\n",
    "# \"korban_luka_berat\":  int,\n",
    "# \"jumlah_jiwa_pengungsi_tertinggi\":  int,\n",
    "# \"jumlah_nilai_kerugian\":  int,\n",
    "# \"jumlah_tempat_pengungsian\":  int,\n",
    "\n",
    "all_rekap['rw_terdampak'] = all_rekap['rw_terdampak'].astype('int64')\n",
    "all_rekap['korban_meninggal'] = all_rekap['korban_meninggal'].astype('int64')\n",
    "all_rekap['korban_hilang']  = all_rekap['korban_hilang'].astype('int64')"
   ],
   "metadata": {
    "collapsed": false,
    "pycharm": {
     "name": "#%%\n"
    }
   }
  },
  {
   "cell_type": "code",
   "execution_count": 183,
   "outputs": [
    {
     "ename": "AttributeError",
     "evalue": "'Series' object has no attribute 'to_numeric'",
     "output_type": "error",
     "traceback": [
      "\u001B[0;31m---------------------------------------------------------------------------\u001B[0m",
      "\u001B[0;31mAttributeError\u001B[0m                            Traceback (most recent call last)",
      "Input \u001B[0;32mIn [183]\u001B[0m, in \u001B[0;36m<cell line: 5>\u001B[0;34m()\u001B[0m\n\u001B[1;32m      1\u001B[0m \u001B[38;5;66;03m# all_rekap.replace('n.a', 0)\u001B[39;00m\n\u001B[1;32m      2\u001B[0m \u001B[38;5;66;03m# all_rekap['kk_terdampak'] = all_rekap['kk_terdampak'].fillna(0)\u001B[39;00m\n\u001B[1;32m      3\u001B[0m \u001B[38;5;66;03m# all_rekap['kk_terdampak'].astype('int64')\u001B[39;00m\n\u001B[0;32m----> 5\u001B[0m all_rekap[\u001B[38;5;124m'\u001B[39m\u001B[38;5;124mjiwa_terdampak\u001B[39m\u001B[38;5;124m'\u001B[39m] \u001B[38;5;241m=\u001B[39m \u001B[43mall_rekap\u001B[49m\u001B[43m[\u001B[49m\u001B[38;5;124;43m'\u001B[39;49m\u001B[38;5;124;43mjiwa_terdampak\u001B[39;49m\u001B[38;5;124;43m'\u001B[39;49m\u001B[43m]\u001B[49m\u001B[38;5;241;43m.\u001B[39;49m\u001B[43mto_numeric\u001B[49m()\n",
      "File \u001B[0;32m~/.conda/envs/workspace/lib/python3.8/site-packages/pandas/core/generic.py:5575\u001B[0m, in \u001B[0;36mNDFrame.__getattr__\u001B[0;34m(self, name)\u001B[0m\n\u001B[1;32m   5568\u001B[0m \u001B[38;5;28;01mif\u001B[39;00m (\n\u001B[1;32m   5569\u001B[0m     name \u001B[38;5;129;01mnot\u001B[39;00m \u001B[38;5;129;01min\u001B[39;00m \u001B[38;5;28mself\u001B[39m\u001B[38;5;241m.\u001B[39m_internal_names_set\n\u001B[1;32m   5570\u001B[0m     \u001B[38;5;129;01mand\u001B[39;00m name \u001B[38;5;129;01mnot\u001B[39;00m \u001B[38;5;129;01min\u001B[39;00m \u001B[38;5;28mself\u001B[39m\u001B[38;5;241m.\u001B[39m_metadata\n\u001B[1;32m   5571\u001B[0m     \u001B[38;5;129;01mand\u001B[39;00m name \u001B[38;5;129;01mnot\u001B[39;00m \u001B[38;5;129;01min\u001B[39;00m \u001B[38;5;28mself\u001B[39m\u001B[38;5;241m.\u001B[39m_accessors\n\u001B[1;32m   5572\u001B[0m     \u001B[38;5;129;01mand\u001B[39;00m \u001B[38;5;28mself\u001B[39m\u001B[38;5;241m.\u001B[39m_info_axis\u001B[38;5;241m.\u001B[39m_can_hold_identifiers_and_holds_name(name)\n\u001B[1;32m   5573\u001B[0m ):\n\u001B[1;32m   5574\u001B[0m     \u001B[38;5;28;01mreturn\u001B[39;00m \u001B[38;5;28mself\u001B[39m[name]\n\u001B[0;32m-> 5575\u001B[0m \u001B[38;5;28;01mreturn\u001B[39;00m \u001B[38;5;28;43mobject\u001B[39;49m\u001B[38;5;241;43m.\u001B[39;49m\u001B[38;5;21;43m__getattribute__\u001B[39;49m\u001B[43m(\u001B[49m\u001B[38;5;28;43mself\u001B[39;49m\u001B[43m,\u001B[49m\u001B[43m \u001B[49m\u001B[43mname\u001B[49m\u001B[43m)\u001B[49m\n",
      "\u001B[0;31mAttributeError\u001B[0m: 'Series' object has no attribute 'to_numeric'"
     ]
    }
   ],
   "source": [
    "# all_rekap.replace('n.a', 0)\n",
    "# all_rekap['kk_terdampak'] = all_rekap['kk_terdampak'].fillna(0)\n",
    "# all_rekap['kk_terdampak'].astype('int64')\n",
    "\n",
    "all_rekap['jiwa_terdampak'] = all_rekap['jiwa_terdampak']\n",
    "\n",
    "# all_rekap['jiwa_terdampak'].astype('int64')\n",
    "# all_rekap\n"
   ],
   "metadata": {
    "collapsed": false,
    "pycharm": {
     "name": "#%%\n"
    }
   }
  },
  {
   "cell_type": "code",
   "execution_count": 196,
   "outputs": [
    {
     "data": {
      "text/plain": "tahun                               int64\nbulan                               int64\nkecamatan                           int64\nkelurahan                           int64\nrata_rata_ketinggian_air           object\nlama_genangan                      object\nrw_terdampak                        int64\nkk_terdampak                       object\njiwa_terdampak                     object\nkorban_meninggal                    int64\nkorban_hilang                       int64\nkorban_luka_berat                   int64\nkorban_luka_ringan                  int64\njumlah_jiwa_pengungsi_tertinggi     int64\njumlah_tempat_pengungsian           int64\ndtype: object"
     },
     "execution_count": 196,
     "metadata": {},
     "output_type": "execute_result"
    }
   ],
   "source": [
    "all_rekap.dtypes"
   ],
   "metadata": {
    "collapsed": false,
    "pycharm": {
     "name": "#%%\n"
    }
   }
  },
  {
   "cell_type": "code",
   "execution_count": 189,
   "outputs": [],
   "source": [
    "all_rekap.drop('jumlah_nilai_kerugian', axis=1, inplace= True)"
   ],
   "metadata": {
    "collapsed": false,
    "pycharm": {
     "name": "#%%\n"
    }
   }
  },
  {
   "cell_type": "code",
   "execution_count": 195,
   "outputs": [],
   "source": [
    "all_rekap['jumlah_tempat_pengungsian']  = all_rekap['jumlah_tempat_pengungsian'].astype('int64')\n",
    "all_rekap['jumlah_jiwa_pengungsi_tertinggi']  = all_rekap['jumlah_jiwa_pengungsi_tertinggi'].astype('int64')\n",
    "all_rekap['korban_luka_ringan']  = all_rekap['korban_luka_ringan'].astype('int64')\n",
    "all_rekap['korban_luka_berat']  = all_rekap['korban_luka_berat'].astype('int64')"
   ],
   "metadata": {
    "collapsed": false,
    "pycharm": {
     "name": "#%%\n"
    }
   }
  },
  {
   "cell_type": "code",
   "execution_count": 198,
   "outputs": [
    {
     "data": {
      "text/plain": "tahun                               int64\nbulan                               int64\nkecamatan                           int64\nkelurahan                           int64\nrata_rata_ketinggian_air           object\nlama_genangan                      object\nrw_terdampak                        int64\nkk_terdampak                       object\njiwa_terdampak                     object\nkorban_meninggal                    int64\nkorban_hilang                       int64\nkorban_luka_berat                   int64\nkorban_luka_ringan                  int64\njumlah_jiwa_pengungsi_tertinggi     int64\njumlah_tempat_pengungsian           int64\ndtype: object"
     },
     "execution_count": 198,
     "metadata": {},
     "output_type": "execute_result"
    }
   ],
   "source": [
    "all_rekap.dtypes"
   ],
   "metadata": {
    "collapsed": false,
    "pycharm": {
     "name": "#%%\n"
    }
   }
  },
  {
   "cell_type": "code",
   "execution_count": 204,
   "outputs": [],
   "source": [
    "df_2020= all_rekap[all_rekap['tahun'] == 2020]"
   ],
   "metadata": {
    "collapsed": false,
    "pycharm": {
     "name": "#%%\n"
    }
   }
  },
  {
   "cell_type": "code",
   "execution_count": 205,
   "outputs": [
    {
     "data": {
      "text/plain": "    tahun  bulan  kecamatan  kelurahan rata_rata_ketinggian_air lama_genangan  \\\n83   2020      1         35        151            10 s.d 350 cm        4 hari   \n84   2020      2         42        167             5 s.d 200 cm  1 s.d 2 hari   \n85   2020      3         24         46             5 s.d 160 cm  1 s.d 2 hari   \n86   2020      4         21         50            10 s.d 130 cm  1 s.d 2 hari   \n87   2020      5         12         23            10 s.d 200 cm  1 s.d 2 hari   \n88   2020      6          9         16             5 s.d 120 cm        1 hari   \n89   2020      7          2          2             20 s.d 50 cm        1 hari   \n90   2020      8         10         12             10 s.d 80 cm        1 hari   \n91   2020      9         16         28            10 s.d 130 cm  1 s.d 2 hari   \n92   2020     10         29         72            10 s.d 180 cm  1 s.d 2 hari   \n93   2020     11         16         27             10 s.d 60 cm  1 s.d 2 hari   \n94   2020     12          7          9             10 s.d 80 cm        1 hari   \n\n    rw_terdampak kk_terdampak jiwa_terdampak  korban_meninggal  korban_hilang  \\\n83           390        22148          83406                19              0   \n84           581        12551          43464                 6              0   \n85           104         3057           9687                 0              0   \n86           106         1059           2966                 0              0   \n87            47          891           3117                 0              0   \n88            46           80            320                 0              0   \n89             4            0              0                 0              0   \n90            20            0              0                 0              0   \n91            65          414           1300                 0              0   \n92           170         1933           6250                 0              0   \n93            54            0              0                 0              0   \n94            18          250            827                 0              0   \n\n    korban_luka_berat  korban_luka_ringan  jumlah_jiwa_pengungsi_tertinggi  \\\n83                  0                   0                            36445   \n84                  0                   0                            13808   \n85                  0                   0                              453   \n86                  0                   0                               75   \n87                  0                   0                              213   \n88                  0                   0                              320   \n89                  0                   0                                0   \n90                  0                   0                                0   \n91                  0                   0                              104   \n92                  0                   0                              675   \n93                  0                   0                                0   \n94                  0                   0                                0   \n\n    jumlah_tempat_pengungsian  \n83                        269  \n84                        119  \n85                         14  \n86                          2  \n87                          6  \n88                          7  \n89                          0  \n90                          0  \n91                          5  \n92                         12  \n93                          0  \n94                          0  ",
      "text/html": "<div>\n<style scoped>\n    .dataframe tbody tr th:only-of-type {\n        vertical-align: middle;\n    }\n\n    .dataframe tbody tr th {\n        vertical-align: top;\n    }\n\n    .dataframe thead th {\n        text-align: right;\n    }\n</style>\n<table border=\"1\" class=\"dataframe\">\n  <thead>\n    <tr style=\"text-align: right;\">\n      <th></th>\n      <th>tahun</th>\n      <th>bulan</th>\n      <th>kecamatan</th>\n      <th>kelurahan</th>\n      <th>rata_rata_ketinggian_air</th>\n      <th>lama_genangan</th>\n      <th>rw_terdampak</th>\n      <th>kk_terdampak</th>\n      <th>jiwa_terdampak</th>\n      <th>korban_meninggal</th>\n      <th>korban_hilang</th>\n      <th>korban_luka_berat</th>\n      <th>korban_luka_ringan</th>\n      <th>jumlah_jiwa_pengungsi_tertinggi</th>\n      <th>jumlah_tempat_pengungsian</th>\n    </tr>\n  </thead>\n  <tbody>\n    <tr>\n      <th>83</th>\n      <td>2020</td>\n      <td>1</td>\n      <td>35</td>\n      <td>151</td>\n      <td>10 s.d 350 cm</td>\n      <td>4 hari</td>\n      <td>390</td>\n      <td>22148</td>\n      <td>83406</td>\n      <td>19</td>\n      <td>0</td>\n      <td>0</td>\n      <td>0</td>\n      <td>36445</td>\n      <td>269</td>\n    </tr>\n    <tr>\n      <th>84</th>\n      <td>2020</td>\n      <td>2</td>\n      <td>42</td>\n      <td>167</td>\n      <td>5 s.d 200 cm</td>\n      <td>1 s.d 2 hari</td>\n      <td>581</td>\n      <td>12551</td>\n      <td>43464</td>\n      <td>6</td>\n      <td>0</td>\n      <td>0</td>\n      <td>0</td>\n      <td>13808</td>\n      <td>119</td>\n    </tr>\n    <tr>\n      <th>85</th>\n      <td>2020</td>\n      <td>3</td>\n      <td>24</td>\n      <td>46</td>\n      <td>5 s.d 160 cm</td>\n      <td>1 s.d 2 hari</td>\n      <td>104</td>\n      <td>3057</td>\n      <td>9687</td>\n      <td>0</td>\n      <td>0</td>\n      <td>0</td>\n      <td>0</td>\n      <td>453</td>\n      <td>14</td>\n    </tr>\n    <tr>\n      <th>86</th>\n      <td>2020</td>\n      <td>4</td>\n      <td>21</td>\n      <td>50</td>\n      <td>10 s.d 130 cm</td>\n      <td>1 s.d 2 hari</td>\n      <td>106</td>\n      <td>1059</td>\n      <td>2966</td>\n      <td>0</td>\n      <td>0</td>\n      <td>0</td>\n      <td>0</td>\n      <td>75</td>\n      <td>2</td>\n    </tr>\n    <tr>\n      <th>87</th>\n      <td>2020</td>\n      <td>5</td>\n      <td>12</td>\n      <td>23</td>\n      <td>10 s.d 200 cm</td>\n      <td>1 s.d 2 hari</td>\n      <td>47</td>\n      <td>891</td>\n      <td>3117</td>\n      <td>0</td>\n      <td>0</td>\n      <td>0</td>\n      <td>0</td>\n      <td>213</td>\n      <td>6</td>\n    </tr>\n    <tr>\n      <th>88</th>\n      <td>2020</td>\n      <td>6</td>\n      <td>9</td>\n      <td>16</td>\n      <td>5 s.d 120 cm</td>\n      <td>1 hari</td>\n      <td>46</td>\n      <td>80</td>\n      <td>320</td>\n      <td>0</td>\n      <td>0</td>\n      <td>0</td>\n      <td>0</td>\n      <td>320</td>\n      <td>7</td>\n    </tr>\n    <tr>\n      <th>89</th>\n      <td>2020</td>\n      <td>7</td>\n      <td>2</td>\n      <td>2</td>\n      <td>20 s.d 50 cm</td>\n      <td>1 hari</td>\n      <td>4</td>\n      <td>0</td>\n      <td>0</td>\n      <td>0</td>\n      <td>0</td>\n      <td>0</td>\n      <td>0</td>\n      <td>0</td>\n      <td>0</td>\n    </tr>\n    <tr>\n      <th>90</th>\n      <td>2020</td>\n      <td>8</td>\n      <td>10</td>\n      <td>12</td>\n      <td>10 s.d 80 cm</td>\n      <td>1 hari</td>\n      <td>20</td>\n      <td>0</td>\n      <td>0</td>\n      <td>0</td>\n      <td>0</td>\n      <td>0</td>\n      <td>0</td>\n      <td>0</td>\n      <td>0</td>\n    </tr>\n    <tr>\n      <th>91</th>\n      <td>2020</td>\n      <td>9</td>\n      <td>16</td>\n      <td>28</td>\n      <td>10 s.d 130 cm</td>\n      <td>1 s.d 2 hari</td>\n      <td>65</td>\n      <td>414</td>\n      <td>1300</td>\n      <td>0</td>\n      <td>0</td>\n      <td>0</td>\n      <td>0</td>\n      <td>104</td>\n      <td>5</td>\n    </tr>\n    <tr>\n      <th>92</th>\n      <td>2020</td>\n      <td>10</td>\n      <td>29</td>\n      <td>72</td>\n      <td>10 s.d 180 cm</td>\n      <td>1 s.d 2 hari</td>\n      <td>170</td>\n      <td>1933</td>\n      <td>6250</td>\n      <td>0</td>\n      <td>0</td>\n      <td>0</td>\n      <td>0</td>\n      <td>675</td>\n      <td>12</td>\n    </tr>\n    <tr>\n      <th>93</th>\n      <td>2020</td>\n      <td>11</td>\n      <td>16</td>\n      <td>27</td>\n      <td>10 s.d 60 cm</td>\n      <td>1 s.d 2 hari</td>\n      <td>54</td>\n      <td>0</td>\n      <td>0</td>\n      <td>0</td>\n      <td>0</td>\n      <td>0</td>\n      <td>0</td>\n      <td>0</td>\n      <td>0</td>\n    </tr>\n    <tr>\n      <th>94</th>\n      <td>2020</td>\n      <td>12</td>\n      <td>7</td>\n      <td>9</td>\n      <td>10 s.d 80 cm</td>\n      <td>1 hari</td>\n      <td>18</td>\n      <td>250</td>\n      <td>827</td>\n      <td>0</td>\n      <td>0</td>\n      <td>0</td>\n      <td>0</td>\n      <td>0</td>\n      <td>0</td>\n    </tr>\n  </tbody>\n</table>\n</div>"
     },
     "execution_count": 205,
     "metadata": {},
     "output_type": "execute_result"
    }
   ],
   "source": [
    "df_2020"
   ],
   "metadata": {
    "collapsed": false,
    "pycharm": {
     "name": "#%%\n"
    }
   }
  },
  {
   "cell_type": "code",
   "execution_count": 214,
   "outputs": [
    {
     "name": "stdout",
     "output_type": "stream",
     "text": [
      "50\n",
      "[ 1.57544432  1.68056893  0.76430419  1.02418072  2.06999369  0.90060764\n",
      "  1.98883826  0.65025043 -1.19211371 -1.96893897 -2.20918774 -0.84471896\n",
      " -0.0468609   0.72477595  0.90943101  1.71819019  2.22453096  2.72208264\n",
      "  4.12424199  4.56367597  2.93374902  2.20988579  2.33153081  1.65114343\n",
      "  1.34572903  1.41418983  2.31747418  1.33083224  1.08132304  1.27975152\n",
      "  0.81222951  0.02415172  0.03742212  1.03548764  1.05423022  0.94261062\n",
      " -0.93631012 -0.21228401  0.05837874  1.31577539  2.20891949  1.3014381\n",
      "  0.22903373 -1.57291331 -0.86590203 -0.42234895  0.8199103   2.72692168\n",
      "  1.55459386  0.61302113]\n"
     ]
    }
   ],
   "source": [
    "test = np.random.standard_normal(50).cumsum()\n",
    "\n",
    "print(len(test))\n",
    "print(test)"
   ],
   "metadata": {
    "collapsed": false,
    "pycharm": {
     "name": "#%%\n"
    }
   }
  },
  {
   "cell_type": "code",
   "execution_count": 222,
   "outputs": [],
   "source": [
    "df_2020_rw = df_2020['rw_terdampak']\n",
    "df_2020_bulan = df_2020['bulan']"
   ],
   "metadata": {
    "collapsed": false,
    "pycharm": {
     "name": "#%%\n"
    }
   }
  },
  {
   "cell_type": "code",
   "execution_count": 237,
   "outputs": [
    {
     "data": {
      "text/plain": "[]"
     },
     "execution_count": 237,
     "metadata": {},
     "output_type": "execute_result"
    },
    {
     "data": {
      "text/plain": "<Figure size 432x288 with 2 Axes>",
      "image/png": "[encoded data removed]"
     },
     "metadata": {
      "needs_background": "light"
     },
     "output_type": "display_data"
    }
   ],
   "source": [
    "import matplotlib.pyplot as plt\n",
    "\n",
    "fig = plt.figure()\n",
    "ax1 = fig.add_subplot(2,1, 1)\n",
    "ax2 = fig.add_subplot(2, 1, 2)\n",
    "# ax3 = fig.add_subplot(2, 2, 3)\n",
    "\n",
    "ax1.plot(df_2020_bulan,df_2020_rw,  color=\"black\", linestyle=\"dashed\")\n",
    "ax1.plot()\n",
    "\n",
    "ax2"
   ],
   "metadata": {
    "collapsed": false,
    "pycharm": {
     "name": "#%%\n"
    }
   }
  },
  {
   "cell_type": "code",
   "execution_count": 238,
   "outputs": [
    {
     "ename": "NameError",
     "evalue": "name 'ax' is not defined",
     "output_type": "error",
     "traceback": [
      "\u001B[0;31m---------------------------------------------------------------------------\u001B[0m",
      "\u001B[0;31mNameError\u001B[0m                                 Traceback (most recent call last)",
      "Input \u001B[0;32mIn [238]\u001B[0m, in \u001B[0;36m<cell line: 1>\u001B[0;34m()\u001B[0m\n\u001B[0;32m----> 1\u001B[0m \u001B[43max\u001B[49m\u001B[38;5;241m.\u001B[39mplot(x, y, linestyle\u001B[38;5;241m=\u001B[39m\u001B[38;5;124m\"\u001B[39m\u001B[38;5;124m--\u001B[39m\u001B[38;5;124m\"\u001B[39m, color\u001B[38;5;241m=\u001B[39m\u001B[38;5;124m\"\u001B[39m\u001B[38;5;124mgreen\u001B[39m\u001B[38;5;124m\"\u001B[39m)\n",
      "\u001B[0;31mNameError\u001B[0m: name 'ax' is not defined"
     ]
    }
   ],
   "source": [
    "ax.plot(x, y, linestyle=\"--\", color=\"green\")"
   ],
   "metadata": {
    "collapsed": false,
    "pycharm": {
     "name": "#%%\n"
    }
   }
  },
  {
   "cell_type": "code",
   "execution_count": 248,
   "outputs": [
    {
     "name": "stderr",
     "output_type": "stream",
     "text": [
      "/var/folders/1n/2gdy6g815s301ygx2s35p6_80000gp/T/ipykernel_28709/121584360.py:6: MatplotlibDeprecationWarning: Adding an axes using the same arguments as a previous axes currently reuses the earlier instance.  In a future version, a new instance will always be created and returned.  Meanwhile, this warning can be suppressed, and the future behavior ensured, by passing a unique label to each axes instance.\n",
      "  ax1 = fig.add_subplot()\n"
     ]
    },
    {
     "data": {
      "text/plain": "<matplotlib.legend.Legend at 0x7f837556b8e0>"
     },
     "execution_count": 248,
     "metadata": {},
     "output_type": "execute_result"
    },
    {
     "data": {
      "text/plain": "<Figure size 432x288 with 1 Axes>",
      "image/png": "[encoded data removed]"
     },
     "metadata": {
      "needs_background": "light"
     },
     "output_type": "display_data"
    }
   ],
   "source": [
    "fig = plt.figure()\n",
    "ax = fig.add_subplot()\n",
    "ax.plot(df_2020_bulan, df_2020_rw, color=\"black\",linestyle=\"dashed\", label=\"rw_terdampak\");\n",
    "\n",
    "df_2020_kk = df_2020['kk_terdampak']\n",
    "ax1 = fig.add_subplot()\n",
    "ax1.plot(df_2020_bulan, df_2020_kk, color=\"black\",linestyle=\"solid\", label=\"kk_terdampak\");\n",
    "\n",
    "ax.legend()"
   ],
   "metadata": {
    "collapsed": false,
    "pycharm": {
     "name": "#%%\n"
    }
   }
  },
  {
   "cell_type": "code",
   "execution_count": 246,
   "outputs": [
    {
     "name": "stderr",
     "output_type": "stream",
     "text": [
      "/var/folders/1n/2gdy6g815s301ygx2s35p6_80000gp/T/ipykernel_28709/890962830.py:2: MatplotlibDeprecationWarning: Adding an axes using the same arguments as a previous axes currently reuses the earlier instance.  In a future version, a new instance will always be created and returned.  Meanwhile, this warning can be suppressed, and the future behavior ensured, by passing a unique label to each axes instance.\n",
      "  ax1 = fig.add_subplot()\n"
     ]
    },
    {
     "data": {
      "text/plain": "<matplotlib.legend.Legend at 0x7f83754a5f40>"
     },
     "execution_count": 246,
     "metadata": {},
     "output_type": "execute_result"
    }
   ],
   "source": [],
   "metadata": {
    "collapsed": false,
    "pycharm": {
     "name": "#%%\n"
    }
   }
  },
  {
   "cell_type": "code",
   "execution_count": 250,
   "outputs": [
    {
     "ename": "ModuleNotFoundError",
     "evalue": "No module named 'seaborn'",
     "output_type": "error",
     "traceback": [
      "\u001B[0;31m---------------------------------------------------------------------------\u001B[0m",
      "\u001B[0;31mModuleNotFoundError\u001B[0m                       Traceback (most recent call last)",
      "Input \u001B[0;32mIn [250]\u001B[0m, in \u001B[0;36m<cell line: 1>\u001B[0;34m()\u001B[0m\n\u001B[0;32m----> 1\u001B[0m \u001B[38;5;28;01mimport\u001B[39;00m \u001B[38;5;21;01mseaborn\u001B[39;00m \u001B[38;5;28;01mas\u001B[39;00m \u001B[38;5;21;01msns\u001B[39;00m\n",
      "\u001B[0;31mModuleNotFoundError\u001B[0m: No module named 'seaborn'"
     ]
    }
   ],
   "source": [],
   "metadata": {
    "collapsed": false,
    "pycharm": {
     "name": "#%%\n"
    }
   }
  },
  {
   "cell_type": "code",
   "execution_count": 251,
   "outputs": [
    {
     "name": "stdout",
     "output_type": "stream",
     "text": [
      "Collecting package metadata (current_repodata.json): done\r\n",
      "Solving environment: done\r\n",
      "\r\n",
      "\r\n",
      "==> WARNING: A newer version of conda exists. <==\r\n",
      "  current version: 4.12.0\r\n",
      "  latest version: 4.14.0\r\n",
      "\r\n",
      "Please update conda by running\r\n",
      "\r\n",
      "    $ conda update -n base -c defaults conda\r\n",
      "\r\n",
      "\r\n",
      "\r\n",
      "## Package Plan ##\r\n",
      "\r\n",
      "  environment location: /Users/nurrizkyimani/.conda/envs/workspace\r\n",
      "\r\n",
      "  added / updated specs:\r\n",
      "    - seaborn\r\n",
      "\r\n",
      "\r\n",
      "The following packages will be downloaded:\r\n",
      "\r\n",
      "    package                    |            build\r\n",
      "    ---------------------------|-----------------\r\n",
      "    certifi-2022.6.15          |   py38hecd8cb5_0         154 KB\r\n",
      "    fftw-3.3.9                 |       h9ed2024_1         2.0 MB\r\n",
      "    libgfortran-5.0.0          |11_2_0_h246ff09_26          21 KB\r\n",
      "    libgfortran5-11.2.0        |      h246ff09_26         1.3 MB\r\n",
      "    scipy-1.7.3                |   py38h214d14d_2        15.5 MB\r\n",
      "    ------------------------------------------------------------\r\n",
      "                                           Total:        19.0 MB\r\n",
      "\r\n",
      "The following NEW packages will be INSTALLED:\r\n",
      "\r\n",
      "  fftw               pkgs/main/osx-64::fftw-3.3.9-h9ed2024_1\r\n",
      "  libgfortran        pkgs/main/osx-64::libgfortran-5.0.0-11_2_0_h246ff09_26\r\n",
      "  libgfortran5       pkgs/main/osx-64::libgfortran5-11.2.0-h246ff09_26\r\n",
      "  scipy              pkgs/main/osx-64::scipy-1.7.3-py38h214d14d_2\r\n",
      "  seaborn            pkgs/main/noarch::seaborn-0.11.2-pyhd3eb1b0_0\r\n",
      "\r\n",
      "The following packages will be UPDATED:\r\n",
      "\r\n",
      "  ca-certificates    conda-forge::ca-certificates-2022.6.1~ --> pkgs/main::ca-certificates-2022.07.19-hecd8cb5_0\r\n",
      "\r\n",
      "The following packages will be SUPERSEDED by a higher-priority channel:\r\n",
      "\r\n",
      "  certifi            conda-forge/noarch::certifi-2022.6.15~ --> pkgs/main/osx-64::certifi-2022.6.15-py38hecd8cb5_0\r\n",
      "  openssl            conda-forge::openssl-1.1.1q-hfe4f2af_0 --> pkgs/main::openssl-1.1.1q-hca72f7f_0\r\n",
      "\r\n",
      "\r\n",
      "\r\n",
      "Downloading and Extracting Packages\r\n",
      "certifi-2022.6.15    | 154 KB    | ##################################### | 100% \r\n",
      "libgfortran-5.0.0    | 21 KB     | ##################################### | 100% \r\n",
      "libgfortran5-11.2.0  | 1.3 MB    | ##################################### | 100% \r\n",
      "fftw-3.3.9           | 2.0 MB    | ##################################### | 100% \r\n",
      "scipy-1.7.3          | 15.5 MB   | ##################################### | 100% \r\n",
      "Preparing transaction: done\r\n",
      "Verifying transaction: done\r\n",
      "Executing transaction: done\r\n"
     ]
    }
   ],
   "source": [
    "!conda install seaborn -y"
   ],
   "metadata": {
    "collapsed": false,
    "pycharm": {
     "name": "#%%\n"
    }
   }
  },
  {
   "cell_type": "code",
   "execution_count": 252,
   "outputs": [
    {
     "name": "stderr",
     "output_type": "stream",
     "text": [
      "/Users/nurrizkyimani/.conda/envs/workspace/lib/python3.8/site-packages/seaborn/_decorators.py:36: FutureWarning: Pass the following variables as keyword args: x, y. From version 0.12, the only valid positional argument will be `data`, and passing other arguments without an explicit keyword will result in an error or misinterpretation.\n",
      "  warnings.warn(\n"
     ]
    },
    {
     "data": {
      "text/plain": "<matplotlib.axes._subplots.AxesSubplot at 0x7f83731f9a90>"
     },
     "execution_count": 252,
     "metadata": {},
     "output_type": "execute_result"
    },
    {
     "data": {
      "text/plain": "<Figure size 432x288 with 1 Axes>",
      "image/png": "[encoded data removed]"
     },
     "metadata": {
      "needs_background": "light"
     },
     "output_type": "display_data"
    }
   ],
   "source": [
    "# df_2020_kk = df_2020['kk_terdampak']\n",
    "# ax1 = fig.add_subplot()\n",
    "# ax1.plot(df_2020_bulan, df_2020_kk, color=\"black\",linestyle=\"solid\", label=\"kk_terdampak\");\n",
    "\n",
    "import seaborn as sns\n",
    "sns.lineplot(df_2020_bulan, df_2020_kk)"
   ],
   "metadata": {
    "collapsed": false,
    "pycharm": {
     "name": "#%%\n"
    }
   }
  },
  {
   "cell_type": "code",
   "execution_count": 253,
   "outputs": [
    {
     "name": "stderr",
     "output_type": "stream",
     "text": [
      "/Users/nurrizkyimani/.conda/envs/workspace/lib/python3.8/site-packages/seaborn/_decorators.py:36: FutureWarning: Pass the following variables as keyword args: x, y. From version 0.12, the only valid positional argument will be `data`, and passing other arguments without an explicit keyword will result in an error or misinterpretation.\n",
      "  warnings.warn(\n"
     ]
    },
    {
     "data": {
      "text/plain": "<matplotlib.axes._subplots.AxesSubplot at 0x7f837254faf0>"
     },
     "execution_count": 253,
     "metadata": {},
     "output_type": "execute_result"
    },
    {
     "data": {
      "text/plain": "<Figure size 432x288 with 1 Axes>",
      "image/png": "[encoded data removed]"
     },
     "metadata": {
      "needs_background": "light"
     },
     "output_type": "display_data"
    }
   ],
   "source": [
    "sns.lineplot(df_2020_bulan, df_2020_rw)"
   ],
   "metadata": {
    "collapsed": false,
    "pycharm": {
     "name": "#%%\n"
    }
   }
  },
  {
   "cell_type": "code",
   "execution_count": 270,
   "outputs": [],
   "source": [],
   "metadata": {
    "collapsed": false,
    "pycharm": {
     "name": "#%%\n"
    }
   }
  },
  {
   "cell_type": "code",
   "execution_count": 266,
   "outputs": [
    {
     "data": {
      "text/plain": "<Figure size 432x288 with 1 Axes>",
      "image/png": "[encoded data removed]"
     },
     "metadata": {
      "needs_background": "light"
     },
     "output_type": "display_data"
    }
   ],
   "source": [
    "import matplotlib.pyplot as plt\n",
    "\n",
    "all_rekap['kk_terdampak'] = all_rekap['kk_terdampak'].\n",
    "\n",
    "df_2020 = all_rekap[all_rekap['tahun'] == 2020]\n",
    "df_2019 = all_rekap[all_rekap['tahun'] == 2019]\n",
    "df_2018 = all_rekap[all_rekap['tahun'] == 2018]\n",
    "df_2017 = all_rekap[all_rekap['tahun'] == 2017]\n",
    "\n",
    "plt.plot(df_2020['bulan'], df_2020['kk_terdampak'], label = \"2020\")\n",
    "plt.plot(df_2020['bulan'], df_2019['kk_terdampak'], label = \"2019\")\n",
    "plt.plot(df_2020['bulan'], df_2018['kk_terdampak'], label = \"2018\")\n",
    "plt.plot(df_2020['bulan'], df_2017['kk_terdampak'], label = \"2017\")\n",
    "plt.title(\"KK Terdampak tahun 2017-2020\")\n",
    "# plt.plot(y, x, label = \"line 2\")\n",
    "plt.legend()\n",
    "plt.show()"
   ],
   "metadata": {
    "collapsed": false,
    "pycharm": {
     "name": "#%%\n"
    }
   }
  },
  {
   "cell_type": "code",
   "execution_count": 279,
   "outputs": [
    {
     "name": "stderr",
     "output_type": "stream",
     "text": [
      "/var/folders/1n/2gdy6g815s301ygx2s35p6_80000gp/T/ipykernel_28709/790911078.py:12: SettingWithCopyWarning: \n",
      "A value is trying to be set on a copy of a slice from a DataFrame\n",
      "\n",
      "See the caveats in the documentation: https://pandas.pydata.org/pandas-docs/stable/user_guide/indexing.html#returning-a-view-versus-a-copy\n",
      "  all_rekap['lama_genangan'].iloc[59] = 2\n",
      "/var/folders/1n/2gdy6g815s301ygx2s35p6_80000gp/T/ipykernel_28709/790911078.py:13: SettingWithCopyWarning: \n",
      "A value is trying to be set on a copy of a slice from a DataFrame\n",
      "\n",
      "See the caveats in the documentation: https://pandas.pydata.org/pandas-docs/stable/user_guide/indexing.html#returning-a-view-versus-a-copy\n",
      "  all_rekap['lama_genangan'].iloc[60] = 6\n"
     ]
    }
   ],
   "source": [
    "all_rekap['lama_genangan'] = all_rekap['lama_genangan'].replace('1 s.d 2 hari', 2)\n",
    "all_rekap['lama_genangan'] = all_rekap['lama_genangan'].replace('1 s/d 6', 6)\n",
    "all_rekap['lama_genangan'] = all_rekap['lama_genangan'].replace('2 hari', 2)\n",
    "all_rekap['lama_genangan'] = all_rekap['lama_genangan'].replace('1 hari', 1)\n",
    "all_rekap['lama_genangan'] = all_rekap['lama_genangan'].replace('4 hari', 4)\n",
    "all_rekap['lama_genangan'] = all_rekap['lama_genangan'].replace('1 s/d 2', 2)\n",
    "\n",
    "all_rekap['lama_genangan'] = all_rekap['lama_genangan'].replace('1 s/d 2', 2)\n",
    "all_rekap['lama_genangan'] = all_rekap['lama_genangan'].replace('1 s/d 6', 6)\n",
    "\n",
    "\n",
    "all_rekap['lama_genangan'].iloc[59] = 2\n",
    "all_rekap['lama_genangan'].iloc[60] = 6\n",
    "\n",
    "all_rekap['lama_genangan'] = all_rekap['lama_genangan'].astype(int)"
   ],
   "metadata": {
    "collapsed": false,
    "pycharm": {
     "name": "#%%\n"
    }
   }
  },
  {
   "cell_type": "code",
   "execution_count": 280,
   "outputs": [
    {
     "data": {
      "text/plain": "<Figure size 432x288 with 1 Axes>",
      "image/png": "[encoded data removed]"
     },
     "metadata": {
      "needs_background": "light"
     },
     "output_type": "display_data"
    }
   ],
   "source": [
    "import matplotlib.pyplot as plt\n",
    "\n",
    "df_2020 = all_rekap[all_rekap['tahun'] == 2020]\n",
    "df_2019 = all_rekap[all_rekap['tahun'] == 2019]\n",
    "df_2018 = all_rekap[all_rekap['tahun'] == 2018]\n",
    "df_2017 = all_rekap[all_rekap['tahun'] == 2017]\n",
    "\n",
    "plt.plot(df_2020['bulan'], df_2020['lama_genangan'], label = \"2020\")\n",
    "plt.plot(df_2020['bulan'], df_2019['lama_genangan'], label = \"2019\")\n",
    "plt.plot(df_2020['bulan'], df_2018['lama_genangan'], label = \"2018\")\n",
    "plt.plot(df_2020['bulan'], df_2017['lama_genangan'], label = \"2017\")\n",
    "plt.title(\"lama tahun 2017-2020\")\n",
    "# plt.plot(y, x, label = \"line 2\")\n",
    "plt.legend()\n",
    "plt.show()"
   ],
   "metadata": {
    "collapsed": false,
    "pycharm": {
     "name": "#%%\n"
    }
   }
  },
  {
   "cell_type": "code",
   "execution_count": 281,
   "outputs": [
    {
     "data": {
      "text/plain": "Index(['tahun', 'bulan', 'kecamatan', 'kelurahan', 'rata_rata_ketinggian_air',\n       'lama_genangan', 'rw_terdampak', 'kk_terdampak', 'jiwa_terdampak',\n       'korban_meninggal', 'korban_hilang', 'korban_luka_berat',\n       'korban_luka_ringan', 'jumlah_jiwa_pengungsi_tertinggi',\n       'jumlah_tempat_pengungsian'],\n      dtype='object')"
     },
     "execution_count": 281,
     "metadata": {},
     "output_type": "execute_result"
    }
   ],
   "source": [
    "all_rekap.columns"
   ],
   "metadata": {
    "collapsed": false,
    "pycharm": {
     "name": "#%%\n"
    }
   }
  },
  {
   "cell_type": "code",
   "execution_count": 282,
   "outputs": [
    {
     "data": {
      "text/plain": "0        10 - 400  \n1        10 - 175  \n2        10 - 250  \n3        10 - 100  \n4         0 - 160  \n          ...      \n90     10 s.d 80 cm\n91    10 s.d 130 cm\n92    10 s.d 180 cm\n93     10 s.d 60 cm\n94     10 s.d 80 cm\nName: rata_rata_ketinggian_air, Length: 95, dtype: object"
     },
     "execution_count": 282,
     "metadata": {},
     "output_type": "execute_result"
    }
   ],
   "source": [
    "all_rekap[\"rata_rata_ketinggian_air\"]"
   ],
   "metadata": {
    "collapsed": false,
    "pycharm": {
     "name": "#%%\n"
    }
   }
  },
  {
   "cell_type": "code",
   "execution_count": null,
   "outputs": [],
   "source": [],
   "metadata": {
    "collapsed": false,
    "pycharm": {
     "name": "#%%\n"
    }
   }
  }
 ],
 "metadata": {
  "kernelspec": {
   "display_name": "Python 3",
   "language": "python",
   "name": "python3"
  },
  "language_info": {
   "codemirror_mode": {
    "name": "ipython",
    "version": 2
   },
   "file_extension": ".py",
   "mimetype": "text/x-python",
   "name": "python",
   "nbconvert_exporter": "python",
   "pygments_lexer": "ipython2",
   "version": "2.7.6"
  }
 },
 "nbformat": 4,
 "nbformat_minor": 0
}